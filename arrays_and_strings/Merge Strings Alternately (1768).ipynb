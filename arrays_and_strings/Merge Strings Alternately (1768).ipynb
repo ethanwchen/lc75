{
 "cells": [
  {
   "cell_type": "markdown",
   "id": "3caec216",
   "metadata": {},
   "source": [
    "### 1768. Merge Strings Alternately - EASY (81%)\n",
    "\n",
    "We need to merge two strings being word1 and word2 by alternating their characters. If the strings are different lengths, the remainder of the longer string should be appended to the end of the result.\n",
    "\n",
    "We start by initializing an empty string 'merged' to stroe the result. Two pointers 'i' and 'j' are initialized to '0'. \n",
    "\n",
    "The while loop runs as long as 'i' is less than the length of 'word1' or 'j' is less than the length of 'word2', ensuring that we keep merging until both are fully processed.\n",
    "\n",
    "Inside the loop, we check if there are remaining characters in 'word1' and 'word2'. If this is the case, the letter is appended to 'merged' and 'i' or 'j' is incremented by 1.\n",
    "\n",
    "The loop stops when 'i' and 'j' reach the end of their strings."
   ]
  },
  {
   "cell_type": "code",
   "execution_count": 1,
   "id": "e8c90792",
   "metadata": {},
   "outputs": [],
   "source": [
    "class Solution:\n",
    "    def mergeAlternately(self, word1: str, word2: str) -> str:\n",
    "        merged = \"\"\n",
    "        i, j = 0, 0  \n",
    "        while i < len(word1) or j < len(word2):\n",
    "            if i < len(word1):\n",
    "                merged += word1[i]\n",
    "                i += 1\n",
    "            if j < len(word2):\n",
    "                merged += word2[j]\n",
    "                j += 1\n",
    "        return merged"
   ]
  },
  {
   "cell_type": "code",
   "execution_count": 2,
   "id": "4d5f5d39",
   "metadata": {},
   "outputs": [
    {
     "name": "stdout",
     "output_type": "stream",
     "text": [
      "apbqcr\n",
      "apbqrs\n",
      "apbqcd\n"
     ]
    }
   ],
   "source": [
    "solution = Solution()\n",
    "print(solution.mergeAlternately(\"abc\", \"pqr\"))  # Output: \"apbqcr\"\n",
    "print(solution.mergeAlternately(\"ab\", \"pqrs\"))  # Output: \"apbqrs\"\n",
    "print(solution.mergeAlternately(\"abcd\", \"pq\"))  # Output: \"apbqcd\""
   ]
  }
 ],
 "metadata": {
  "kernelspec": {
   "display_name": "Python 3 (ipykernel)",
   "language": "python",
   "name": "python3"
  },
  "language_info": {
   "codemirror_mode": {
    "name": "ipython",
    "version": 3
   },
   "file_extension": ".py",
   "mimetype": "text/x-python",
   "name": "python",
   "nbconvert_exporter": "python",
   "pygments_lexer": "ipython3",
   "version": "3.11.5"
  }
 },
 "nbformat": 4,
 "nbformat_minor": 5
}
