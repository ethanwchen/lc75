{
 "cells": [
  {
   "cell_type": "markdown",
   "id": "cf14499a",
   "metadata": {},
   "source": [
    "### Greatest Common Divisor of Strings - EASY (41%)\n",
    "\n",
    "For two strings s and t, we say \"t divides s\" if and only if s = t + t + t + ... + t + t (i.e., t is concatenated with itself one or more times).\n",
    "\n",
    "Given two strings str1 and str2, return the largest string x such that x divides both str1 and str2.\n",
    "\n",
    "The Euclidean algorithm finds the greatest commmon divisor of two integers. The GCD of two integers is the largest integer that can divide both without leaving a remainder. We start by initializing our two numbers a, b. We replace a with b and b with a mod b. When b becomes zero, we have a as the GCD.\n",
    "\n",
    "We first check if the strings even share a pattern by adding the strings and checking if they equal themselves with different strings in front.\n",
    "\n",
    "We then run the Euclidean algorithm to find the greatest divisor and output the biggest pattern possible."
   ]
  },
  {
   "cell_type": "code",
   "execution_count": 2,
   "id": "2a41df0c",
   "metadata": {},
   "outputs": [],
   "source": [
    "class Solution:\n",
    "    def gcdOfStrings(self, str1: str, str2: str) -> str:\n",
    "        if str1 + str2 != str2 + str1:\n",
    "            return \"\"\n",
    "       \n",
    "       # Euclidean Algorithm\n",
    "        def gcd(a: int, b: int) -> int:\n",
    "            while b != 0:\n",
    "                a, b = b, a % b\n",
    "            return a\n",
    "\n",
    "        return str1[:gcd(len(str1), len(str2))]"
   ]
  },
  {
   "cell_type": "code",
   "execution_count": 3,
   "id": "e6d98274",
   "metadata": {},
   "outputs": [
    {
     "name": "stdout",
     "output_type": "stream",
     "text": [
      "ABC\n",
      "AB\n",
      "\n"
     ]
    }
   ],
   "source": [
    "solution = Solution()\n",
    "print(solution.gcdOfStrings(\"ABCABC\", \"ABC\"))  # Output: \"ABC\"\n",
    "print(solution.gcdOfStrings(\"ABABAB\", \"ABAB\"))  # Output: \"AB\"\n",
    "print(solution.gcdOfStrings(\"LEET\", \"CODE\"))    # Output: \"\""
   ]
  }
 ],
 "metadata": {
  "kernelspec": {
   "display_name": "Python 3 (ipykernel)",
   "language": "python",
   "name": "python3"
  },
  "language_info": {
   "codemirror_mode": {
    "name": "ipython",
    "version": 3
   },
   "file_extension": ".py",
   "mimetype": "text/x-python",
   "name": "python",
   "nbconvert_exporter": "python",
   "pygments_lexer": "ipython3",
   "version": "3.11.5"
  }
 },
 "nbformat": 4,
 "nbformat_minor": 5
}
